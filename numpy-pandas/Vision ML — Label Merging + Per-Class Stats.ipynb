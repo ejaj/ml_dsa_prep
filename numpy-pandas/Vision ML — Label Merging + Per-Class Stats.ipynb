{
 "cells": [
  {
   "cell_type": "markdown",
   "metadata": {},
   "source": [
    "### Case Study 5 (Advanced): Vision ML — Label Merging + Per-Class Stats"
   ]
  },
  {
   "cell_type": "code",
   "execution_count": 1,
   "metadata": {},
   "outputs": [],
   "source": [
    "import pandas as pd\n",
    "import numpy as np"
   ]
  },
  {
   "cell_type": "code",
   "execution_count": 3,
   "metadata": {},
   "outputs": [
    {
     "data": {
      "text/html": [
       "<div>\n",
       "<style scoped>\n",
       "    .dataframe tbody tr th:only-of-type {\n",
       "        vertical-align: middle;\n",
       "    }\n",
       "\n",
       "    .dataframe tbody tr th {\n",
       "        vertical-align: top;\n",
       "    }\n",
       "\n",
       "    .dataframe thead th {\n",
       "        text-align: right;\n",
       "    }\n",
       "</style>\n",
       "<table border=\"1\" class=\"dataframe\">\n",
       "  <thead>\n",
       "    <tr style=\"text-align: right;\">\n",
       "      <th></th>\n",
       "      <th>image_id</th>\n",
       "      <th>annotator_labels</th>\n",
       "      <th>city</th>\n",
       "    </tr>\n",
       "  </thead>\n",
       "  <tbody>\n",
       "    <tr>\n",
       "      <th>0</th>\n",
       "      <td>cph001.jpg</td>\n",
       "      <td>[car, human, truck]</td>\n",
       "      <td>Copenhagen</td>\n",
       "    </tr>\n",
       "    <tr>\n",
       "      <th>1</th>\n",
       "      <td>ber005.jpg</td>\n",
       "      <td>[person, bicycle]</td>\n",
       "      <td>Berlin</td>\n",
       "    </tr>\n",
       "    <tr>\n",
       "      <th>2</th>\n",
       "      <td>sf103.jpg</td>\n",
       "      <td>[automobile, person]</td>\n",
       "      <td>San Francisco</td>\n",
       "    </tr>\n",
       "    <tr>\n",
       "      <th>3</th>\n",
       "      <td>del220.jpg</td>\n",
       "      <td>[vehicle, motorbike]</td>\n",
       "      <td>Delhi</td>\n",
       "    </tr>\n",
       "    <tr>\n",
       "      <th>4</th>\n",
       "      <td>nyc009.jpg</td>\n",
       "      <td>[pedestrian, bike, car]</td>\n",
       "      <td>New York</td>\n",
       "    </tr>\n",
       "  </tbody>\n",
       "</table>\n",
       "</div>"
      ],
      "text/plain": [
       "     image_id         annotator_labels           city\n",
       "0  cph001.jpg      [car, human, truck]     Copenhagen\n",
       "1  ber005.jpg        [person, bicycle]         Berlin\n",
       "2   sf103.jpg     [automobile, person]  San Francisco\n",
       "3  del220.jpg     [vehicle, motorbike]          Delhi\n",
       "4  nyc009.jpg  [pedestrian, bike, car]       New York"
      ]
     },
     "execution_count": 3,
     "metadata": {},
     "output_type": "execute_result"
    }
   ],
   "source": [
    "df = pd.DataFrame({\n",
    "    'image_id': ['cph001.jpg', 'ber005.jpg', 'sf103.jpg', 'del220.jpg', 'nyc009.jpg'],\n",
    "    'annotator_labels': [\n",
    "        ['car', 'human', 'truck'],        # inconsistent naming\n",
    "        ['person', 'bicycle'],\n",
    "        ['automobile', 'person'],\n",
    "        ['vehicle', 'motorbike'],\n",
    "        ['pedestrian', 'bike', 'car']\n",
    "    ],\n",
    "    'city': ['Copenhagen', 'Berlin', 'San Francisco', 'Delhi', 'New York']\n",
    "})\n",
    "df"
   ]
  },
  {
   "cell_type": "code",
   "execution_count": 4,
   "metadata": {},
   "outputs": [],
   "source": [
    "synonym_map = {\n",
    "    'automobile': 'car',\n",
    "    'vehicle': 'car',\n",
    "    'human': 'person',\n",
    "    'pedestrian': 'person',\n",
    "    'bike': 'bicycle',\n",
    "}"
   ]
  },
  {
   "cell_type": "code",
   "execution_count": 7,
   "metadata": {},
   "outputs": [
    {
     "data": {
      "text/html": [
       "<div>\n",
       "<style scoped>\n",
       "    .dataframe tbody tr th:only-of-type {\n",
       "        vertical-align: middle;\n",
       "    }\n",
       "\n",
       "    .dataframe tbody tr th {\n",
       "        vertical-align: top;\n",
       "    }\n",
       "\n",
       "    .dataframe thead th {\n",
       "        text-align: right;\n",
       "    }\n",
       "</style>\n",
       "<table border=\"1\" class=\"dataframe\">\n",
       "  <thead>\n",
       "    <tr style=\"text-align: right;\">\n",
       "      <th></th>\n",
       "      <th>image_id</th>\n",
       "      <th>annotator_labels</th>\n",
       "      <th>city</th>\n",
       "      <th>normalized_labels</th>\n",
       "    </tr>\n",
       "  </thead>\n",
       "  <tbody>\n",
       "    <tr>\n",
       "      <th>0</th>\n",
       "      <td>cph001.jpg</td>\n",
       "      <td>[car, human, truck]</td>\n",
       "      <td>Copenhagen</td>\n",
       "      <td>[car, person, truck]</td>\n",
       "    </tr>\n",
       "    <tr>\n",
       "      <th>1</th>\n",
       "      <td>ber005.jpg</td>\n",
       "      <td>[person, bicycle]</td>\n",
       "      <td>Berlin</td>\n",
       "      <td>[bicycle, person]</td>\n",
       "    </tr>\n",
       "    <tr>\n",
       "      <th>2</th>\n",
       "      <td>sf103.jpg</td>\n",
       "      <td>[automobile, person]</td>\n",
       "      <td>San Francisco</td>\n",
       "      <td>[car, person]</td>\n",
       "    </tr>\n",
       "    <tr>\n",
       "      <th>3</th>\n",
       "      <td>del220.jpg</td>\n",
       "      <td>[vehicle, motorbike]</td>\n",
       "      <td>Delhi</td>\n",
       "      <td>[car, motorbike]</td>\n",
       "    </tr>\n",
       "    <tr>\n",
       "      <th>4</th>\n",
       "      <td>nyc009.jpg</td>\n",
       "      <td>[pedestrian, bike, car]</td>\n",
       "      <td>New York</td>\n",
       "      <td>[bicycle, car, person]</td>\n",
       "    </tr>\n",
       "  </tbody>\n",
       "</table>\n",
       "</div>"
      ],
      "text/plain": [
       "     image_id         annotator_labels           city       normalized_labels\n",
       "0  cph001.jpg      [car, human, truck]     Copenhagen    [car, person, truck]\n",
       "1  ber005.jpg        [person, bicycle]         Berlin       [bicycle, person]\n",
       "2   sf103.jpg     [automobile, person]  San Francisco           [car, person]\n",
       "3  del220.jpg     [vehicle, motorbike]          Delhi        [car, motorbike]\n",
       "4  nyc009.jpg  [pedestrian, bike, car]       New York  [bicycle, car, person]"
      ]
     },
     "execution_count": 7,
     "metadata": {},
     "output_type": "execute_result"
    }
   ],
   "source": [
    "def normalize_labels(label_list, mapping):\n",
    "    return sorted(set([mapping.get(l,l) for l in label_list]))\n",
    "\n",
    "df['normalized_labels'] = df['annotator_labels'].apply(lambda x: normalize_labels(x, synonym_map))\n",
    "df"
   ]
  },
  {
   "cell_type": "code",
   "execution_count": 9,
   "metadata": {},
   "outputs": [
    {
     "data": {
      "text/html": [
       "<div>\n",
       "<style scoped>\n",
       "    .dataframe tbody tr th:only-of-type {\n",
       "        vertical-align: middle;\n",
       "    }\n",
       "\n",
       "    .dataframe tbody tr th {\n",
       "        vertical-align: top;\n",
       "    }\n",
       "\n",
       "    .dataframe thead th {\n",
       "        text-align: right;\n",
       "    }\n",
       "</style>\n",
       "<table border=\"1\" class=\"dataframe\">\n",
       "  <thead>\n",
       "    <tr style=\"text-align: right;\">\n",
       "      <th></th>\n",
       "      <th>Berlin</th>\n",
       "      <th>Copenhagen</th>\n",
       "      <th>Delhi</th>\n",
       "      <th>New York</th>\n",
       "      <th>San Francisco</th>\n",
       "    </tr>\n",
       "  </thead>\n",
       "  <tbody>\n",
       "    <tr>\n",
       "      <th>bicycle</th>\n",
       "      <td>1</td>\n",
       "      <td>0</td>\n",
       "      <td>0</td>\n",
       "      <td>1</td>\n",
       "      <td>0</td>\n",
       "    </tr>\n",
       "    <tr>\n",
       "      <th>person</th>\n",
       "      <td>1</td>\n",
       "      <td>1</td>\n",
       "      <td>0</td>\n",
       "      <td>1</td>\n",
       "      <td>1</td>\n",
       "    </tr>\n",
       "    <tr>\n",
       "      <th>car</th>\n",
       "      <td>0</td>\n",
       "      <td>1</td>\n",
       "      <td>1</td>\n",
       "      <td>1</td>\n",
       "      <td>1</td>\n",
       "    </tr>\n",
       "    <tr>\n",
       "      <th>truck</th>\n",
       "      <td>0</td>\n",
       "      <td>1</td>\n",
       "      <td>0</td>\n",
       "      <td>0</td>\n",
       "      <td>0</td>\n",
       "    </tr>\n",
       "    <tr>\n",
       "      <th>motorbike</th>\n",
       "      <td>0</td>\n",
       "      <td>0</td>\n",
       "      <td>1</td>\n",
       "      <td>0</td>\n",
       "      <td>0</td>\n",
       "    </tr>\n",
       "  </tbody>\n",
       "</table>\n",
       "</div>"
      ],
      "text/plain": [
       "           Berlin  Copenhagen  Delhi  New York  San Francisco\n",
       "bicycle         1           0      0         1              0\n",
       "person          1           1      0         1              1\n",
       "car             0           1      1         1              1\n",
       "truck           0           1      0         0              0\n",
       "motorbike       0           0      1         0              0"
      ]
     },
     "execution_count": 9,
     "metadata": {},
     "output_type": "execute_result"
    }
   ],
   "source": [
    "from collections import Counter\n",
    "stats_by_city = {}\n",
    "for city, group in df.groupby('city'):\n",
    "    labels = sum(group['normalized_labels'], [])\n",
    "    stats = dict(Counter(labels))\n",
    "    stats_by_city[city] = stats\n",
    "\n",
    "\n",
    "city_stats_df = pd.DataFrame(stats_by_city).fillna(0).astype(int)\n",
    "city_stats_df"
   ]
  },
  {
   "cell_type": "code",
   "execution_count": 11,
   "metadata": {},
   "outputs": [
    {
     "data": {
      "text/html": [
       "<div>\n",
       "<style scoped>\n",
       "    .dataframe tbody tr th:only-of-type {\n",
       "        vertical-align: middle;\n",
       "    }\n",
       "\n",
       "    .dataframe tbody tr th {\n",
       "        vertical-align: top;\n",
       "    }\n",
       "\n",
       "    .dataframe thead th {\n",
       "        text-align: right;\n",
       "    }\n",
       "</style>\n",
       "<table border=\"1\" class=\"dataframe\">\n",
       "  <thead>\n",
       "    <tr style=\"text-align: right;\">\n",
       "      <th></th>\n",
       "      <th>bicycle</th>\n",
       "      <th>car</th>\n",
       "      <th>motorbike</th>\n",
       "      <th>person</th>\n",
       "      <th>truck</th>\n",
       "    </tr>\n",
       "  </thead>\n",
       "  <tbody>\n",
       "    <tr>\n",
       "      <th>bicycle</th>\n",
       "      <td>2</td>\n",
       "      <td>1</td>\n",
       "      <td>0</td>\n",
       "      <td>2</td>\n",
       "      <td>0</td>\n",
       "    </tr>\n",
       "    <tr>\n",
       "      <th>car</th>\n",
       "      <td>1</td>\n",
       "      <td>4</td>\n",
       "      <td>1</td>\n",
       "      <td>3</td>\n",
       "      <td>1</td>\n",
       "    </tr>\n",
       "    <tr>\n",
       "      <th>motorbike</th>\n",
       "      <td>0</td>\n",
       "      <td>1</td>\n",
       "      <td>1</td>\n",
       "      <td>0</td>\n",
       "      <td>0</td>\n",
       "    </tr>\n",
       "    <tr>\n",
       "      <th>person</th>\n",
       "      <td>2</td>\n",
       "      <td>3</td>\n",
       "      <td>0</td>\n",
       "      <td>4</td>\n",
       "      <td>1</td>\n",
       "    </tr>\n",
       "    <tr>\n",
       "      <th>truck</th>\n",
       "      <td>0</td>\n",
       "      <td>1</td>\n",
       "      <td>0</td>\n",
       "      <td>1</td>\n",
       "      <td>1</td>\n",
       "    </tr>\n",
       "  </tbody>\n",
       "</table>\n",
       "</div>"
      ],
      "text/plain": [
       "           bicycle  car  motorbike  person  truck\n",
       "bicycle          2    1          0       2      0\n",
       "car              1    4          1       3      1\n",
       "motorbike        0    1          1       0      0\n",
       "person           2    3          0       4      1\n",
       "truck            0    1          0       1      1"
      ]
     },
     "execution_count": 11,
     "metadata": {},
     "output_type": "execute_result"
    }
   ],
   "source": [
    "from sklearn.preprocessing import MultiLabelBinarizer\n",
    "\n",
    "mlb = MultiLabelBinarizer()\n",
    "onehot = mlb.fit_transform(df['normalized_labels'])\n",
    "co_matrix = np.dot(onehot.T, onehot)\n",
    "\n",
    "co_df = pd.DataFrame(co_matrix, index=mlb.classes_, columns=mlb.classes_)\n",
    "co_df"
   ]
  },
  {
   "cell_type": "code",
   "execution_count": 12,
   "metadata": {},
   "outputs": [
    {
     "data": {
      "image/png": "[encoded data removed]",
      "text/plain": [
       "<Figure size 640x480 with 1 Axes>"
      ]
     },
     "metadata": {},
     "output_type": "display_data"
    }
   ],
   "source": [
    "import matplotlib.pyplot as plt\n",
    "\n",
    "label_totals = onehot.sum(axis=0)\n",
    "plt.bar(mlb.classes_, label_totals)\n",
    "plt.xticks(rotation=45)\n",
    "plt.title(\"Label Distribution (Post Normalization)\")\n",
    "plt.show()\n"
   ]
  },
  {
   "cell_type": "code",
   "execution_count": 13,
   "metadata": {},
   "outputs": [
    {
     "data": {
      "image/png": "[encoded data removed]",
      "text/plain": [
       "<Figure size 600x500 with 2 Axes>"
      ]
     },
     "metadata": {},
     "output_type": "display_data"
    }
   ],
   "source": [
    "import seaborn as sns\n",
    "plt.figure(figsize=(6, 5))\n",
    "sns.heatmap(co_df, annot=True, fmt='d', cmap='Blues')\n",
    "plt.title(\"Label Co-occurrence Heatmap\")\n",
    "plt.show()"
   ]
  },
  {
   "cell_type": "code",
   "execution_count": 14,
   "metadata": {},
   "outputs": [
    {
     "data": {
      "text/plain": [
       "array(['bicycle', 'car', 'motorbike', 'person', 'truck'], dtype=object)"
      ]
     },
     "execution_count": 14,
     "metadata": {},
     "output_type": "execute_result"
    }
   ],
   "source": [
    "mlb.classes_"
   ]
  },
  {
   "cell_type": "code",
   "execution_count": 15,
   "metadata": {},
   "outputs": [
    {
     "name": "stdout",
     "output_type": "stream",
     "text": [
      "Strong Co-occurrence Pairs:\n",
      "  - bicycle & person: 2 times\n",
      "  - car & person: 3 times\n",
      "\n",
      "Rare or Never Co-occurring Pairs:\n",
      "  - bicycle & motorbike: 0 times\n",
      "  - bicycle & truck: 0 times\n",
      "  - motorbike & person: 0 times\n",
      "  - motorbike & truck: 0 times\n"
     ]
    }
   ],
   "source": [
    "# Define thresholds\n",
    "strong_threshold = 2\n",
    "rare_threshold = 0\n",
    "\n",
    "# Find strong correlations (excluding diagonal)\n",
    "strong_pairs = []\n",
    "rare_pairs = []\n",
    "\n",
    "for i, label1 in enumerate(mlb.classes_):\n",
    "    for j, label2 in enumerate(mlb.classes_):\n",
    "        if i < j: # avoid duplicates and diagonal\n",
    "            value = co_df.iloc[i,j]\n",
    "            if value >= strong_threshold:\n",
    "                strong_pairs.append((label1, label2, value))\n",
    "            elif value <= rare_threshold:\n",
    "                rare_pairs.append((label1, label2, value))\n",
    "print(\"Strong Co-occurrence Pairs:\")\n",
    "for pair in strong_pairs:\n",
    "    print(f\"  - {pair[0]} & {pair[1]}: {pair[2]} times\")\n",
    "\n",
    "print(\"\\nRare or Never Co-occurring Pairs:\")\n",
    "for pair in rare_pairs:\n",
    "    print(f\"  - {pair[0]} & {pair[1]}: {pair[2]} times\")"
   ]
  }
 ],
 "metadata": {
  "kernelspec": {
   "display_name": "venv",
   "language": "python",
   "name": "python3"
  },
  "language_info": {
   "codemirror_mode": {
    "name": "ipython",
    "version": 3
   },
   "file_extension": ".py",
   "mimetype": "text/x-python",
   "name": "python",
   "nbconvert_exporter": "python",
   "pygments_lexer": "ipython3",
   "version": "3.10.12"
  }
 },
 "nbformat": 4,
 "nbformat_minor": 2
}
