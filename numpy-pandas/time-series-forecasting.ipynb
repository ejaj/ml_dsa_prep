{
 "cells": [
  {
   "cell_type": "code",
   "execution_count": 33,
   "metadata": {},
   "outputs": [],
   "source": [
    "import pandas as pd\n",
    "import numpy as np\n",
    "import matplotlib.pyplot as plt\n",
    "from sklearn.preprocessing import MinMaxScaler\n",
    "import torch\n",
    "import torch.nn as nn\n",
    "import torch.nn.functional as F\n",
    "import torch.optim as optim\n",
    "from torch.utils.data import DataLoader, TensorDataset"
   ]
  },
  {
   "cell_type": "code",
   "execution_count": 34,
   "metadata": {},
   "outputs": [
    {
     "data": {
      "text/html": [
       "<div>\n",
       "<style scoped>\n",
       "    .dataframe tbody tr th:only-of-type {\n",
       "        vertical-align: middle;\n",
       "    }\n",
       "\n",
       "    .dataframe tbody tr th {\n",
       "        vertical-align: top;\n",
       "    }\n",
       "\n",
       "    .dataframe thead th {\n",
       "        text-align: right;\n",
       "    }\n",
       "</style>\n",
       "<table border=\"1\" class=\"dataframe\">\n",
       "  <thead>\n",
       "    <tr style=\"text-align: right;\">\n",
       "      <th></th>\n",
       "      <th>timestamp</th>\n",
       "      <th>temperature</th>\n",
       "      <th>door_status</th>\n",
       "      <th>energy_usage</th>\n",
       "    </tr>\n",
       "  </thead>\n",
       "  <tbody>\n",
       "    <tr>\n",
       "      <th>0</th>\n",
       "      <td>2025-07-18 12:00:00</td>\n",
       "      <td>4.1</td>\n",
       "      <td>closed</td>\n",
       "      <td>0.42</td>\n",
       "    </tr>\n",
       "    <tr>\n",
       "      <th>1</th>\n",
       "      <td>2025-07-18 12:01:00</td>\n",
       "      <td>4.2</td>\n",
       "      <td>open</td>\n",
       "      <td>0.57</td>\n",
       "    </tr>\n",
       "    <tr>\n",
       "      <th>2</th>\n",
       "      <td>2025-07-18 12:02:00</td>\n",
       "      <td>4.3</td>\n",
       "      <td>closed</td>\n",
       "      <td>0.40</td>\n",
       "    </tr>\n",
       "    <tr>\n",
       "      <th>3</th>\n",
       "      <td>2025-07-18 12:03:00</td>\n",
       "      <td>4.3</td>\n",
       "      <td>closed</td>\n",
       "      <td>0.39</td>\n",
       "    </tr>\n",
       "    <tr>\n",
       "      <th>4</th>\n",
       "      <td>2025-07-18 12:04:00</td>\n",
       "      <td>4.4</td>\n",
       "      <td>open</td>\n",
       "      <td>0.60</td>\n",
       "    </tr>\n",
       "  </tbody>\n",
       "</table>\n",
       "</div>"
      ],
      "text/plain": [
       "            timestamp  temperature door_status  energy_usage\n",
       "0 2025-07-18 12:00:00          4.1      closed          0.42\n",
       "1 2025-07-18 12:01:00          4.2        open          0.57\n",
       "2 2025-07-18 12:02:00          4.3      closed          0.40\n",
       "3 2025-07-18 12:03:00          4.3      closed          0.39\n",
       "4 2025-07-18 12:04:00          4.4        open          0.60"
      ]
     },
     "execution_count": 34,
     "metadata": {},
     "output_type": "execute_result"
    }
   ],
   "source": [
    "df = pd.read_csv(\"iot_sensor_data.csv\", parse_dates=['timestamp'])\n",
    "df.head(5)"
   ]
  },
  {
   "cell_type": "code",
   "execution_count": 35,
   "metadata": {},
   "outputs": [
    {
     "data": {
      "text/html": [
       "<div>\n",
       "<style scoped>\n",
       "    .dataframe tbody tr th:only-of-type {\n",
       "        vertical-align: middle;\n",
       "    }\n",
       "\n",
       "    .dataframe tbody tr th {\n",
       "        vertical-align: top;\n",
       "    }\n",
       "\n",
       "    .dataframe thead th {\n",
       "        text-align: right;\n",
       "    }\n",
       "</style>\n",
       "<table border=\"1\" class=\"dataframe\">\n",
       "  <thead>\n",
       "    <tr style=\"text-align: right;\">\n",
       "      <th></th>\n",
       "      <th>timestamp</th>\n",
       "      <th>temperature</th>\n",
       "      <th>door_status</th>\n",
       "      <th>energy_usage</th>\n",
       "    </tr>\n",
       "  </thead>\n",
       "  <tbody>\n",
       "    <tr>\n",
       "      <th>0</th>\n",
       "      <td>2025-07-18 12:00:00</td>\n",
       "      <td>4.1</td>\n",
       "      <td>closed</td>\n",
       "      <td>0.42</td>\n",
       "    </tr>\n",
       "    <tr>\n",
       "      <th>1</th>\n",
       "      <td>2025-07-18 12:01:00</td>\n",
       "      <td>4.2</td>\n",
       "      <td>open</td>\n",
       "      <td>0.57</td>\n",
       "    </tr>\n",
       "    <tr>\n",
       "      <th>2</th>\n",
       "      <td>2025-07-18 12:02:00</td>\n",
       "      <td>4.3</td>\n",
       "      <td>closed</td>\n",
       "      <td>0.40</td>\n",
       "    </tr>\n",
       "    <tr>\n",
       "      <th>3</th>\n",
       "      <td>2025-07-18 12:03:00</td>\n",
       "      <td>4.3</td>\n",
       "      <td>closed</td>\n",
       "      <td>0.39</td>\n",
       "    </tr>\n",
       "    <tr>\n",
       "      <th>4</th>\n",
       "      <td>2025-07-18 12:04:00</td>\n",
       "      <td>4.4</td>\n",
       "      <td>open</td>\n",
       "      <td>0.60</td>\n",
       "    </tr>\n",
       "  </tbody>\n",
       "</table>\n",
       "</div>"
      ],
      "text/plain": [
       "            timestamp  temperature door_status  energy_usage\n",
       "0 2025-07-18 12:00:00          4.1      closed          0.42\n",
       "1 2025-07-18 12:01:00          4.2        open          0.57\n",
       "2 2025-07-18 12:02:00          4.3      closed          0.40\n",
       "3 2025-07-18 12:03:00          4.3      closed          0.39\n",
       "4 2025-07-18 12:04:00          4.4        open          0.60"
      ]
     },
     "execution_count": 35,
     "metadata": {},
     "output_type": "execute_result"
    }
   ],
   "source": [
    "df = df.sort_values('timestamp')\n",
    "df.head(5)"
   ]
  },
  {
   "cell_type": "code",
   "execution_count": null,
   "metadata": {},
   "outputs": [],
   "source": []
  },
  {
   "cell_type": "code",
   "execution_count": 36,
   "metadata": {},
   "outputs": [
    {
     "data": {
      "text/html": [
       "<div>\n",
       "<style scoped>\n",
       "    .dataframe tbody tr th:only-of-type {\n",
       "        vertical-align: middle;\n",
       "    }\n",
       "\n",
       "    .dataframe tbody tr th {\n",
       "        vertical-align: top;\n",
       "    }\n",
       "\n",
       "    .dataframe thead th {\n",
       "        text-align: right;\n",
       "    }\n",
       "</style>\n",
       "<table border=\"1\" class=\"dataframe\">\n",
       "  <thead>\n",
       "    <tr style=\"text-align: right;\">\n",
       "      <th></th>\n",
       "      <th>timestamp</th>\n",
       "      <th>temperature</th>\n",
       "      <th>door_status</th>\n",
       "      <th>energy_usage</th>\n",
       "    </tr>\n",
       "  </thead>\n",
       "  <tbody>\n",
       "    <tr>\n",
       "      <th>0</th>\n",
       "      <td>2025-07-18 12:00:00</td>\n",
       "      <td>4.1</td>\n",
       "      <td>0</td>\n",
       "      <td>0.42</td>\n",
       "    </tr>\n",
       "    <tr>\n",
       "      <th>1</th>\n",
       "      <td>2025-07-18 12:01:00</td>\n",
       "      <td>4.2</td>\n",
       "      <td>1</td>\n",
       "      <td>0.57</td>\n",
       "    </tr>\n",
       "    <tr>\n",
       "      <th>2</th>\n",
       "      <td>2025-07-18 12:02:00</td>\n",
       "      <td>4.3</td>\n",
       "      <td>0</td>\n",
       "      <td>0.40</td>\n",
       "    </tr>\n",
       "    <tr>\n",
       "      <th>3</th>\n",
       "      <td>2025-07-18 12:03:00</td>\n",
       "      <td>4.3</td>\n",
       "      <td>0</td>\n",
       "      <td>0.39</td>\n",
       "    </tr>\n",
       "    <tr>\n",
       "      <th>4</th>\n",
       "      <td>2025-07-18 12:04:00</td>\n",
       "      <td>4.4</td>\n",
       "      <td>1</td>\n",
       "      <td>0.60</td>\n",
       "    </tr>\n",
       "  </tbody>\n",
       "</table>\n",
       "</div>"
      ],
      "text/plain": [
       "            timestamp  temperature  door_status  energy_usage\n",
       "0 2025-07-18 12:00:00          4.1            0          0.42\n",
       "1 2025-07-18 12:01:00          4.2            1          0.57\n",
       "2 2025-07-18 12:02:00          4.3            0          0.40\n",
       "3 2025-07-18 12:03:00          4.3            0          0.39\n",
       "4 2025-07-18 12:04:00          4.4            1          0.60"
      ]
     },
     "execution_count": 36,
     "metadata": {},
     "output_type": "execute_result"
    }
   ],
   "source": [
    "df['door_status'] = df['door_status'].map({'closed':0, 'open': 1})\n",
    "df.dropna()\n",
    "df.head(5)"
   ]
  },
  {
   "cell_type": "code",
   "execution_count": 37,
   "metadata": {},
   "outputs": [
    {
     "data": {
      "text/plain": [
       "(10, 3)"
      ]
     },
     "execution_count": 37,
     "metadata": {},
     "output_type": "execute_result"
    }
   ],
   "source": [
    "features = ['temperature', 'door_status', 'energy_usage']\n",
    "scaler = MinMaxScaler()\n",
    "df_scaled = scaler.fit_transform(df[features])\n",
    "df_scaled.shape"
   ]
  },
  {
   "cell_type": "code",
   "execution_count": 38,
   "metadata": {},
   "outputs": [],
   "source": [
    "def create_sequences(data, seq_length=60, forecast_horizon=60):\n",
    "    X, y = [], []\n",
    "    for i in range(len(data)-seq_length-forecast_horizon):\n",
    "        X.append(data[i:i+seq_length])\n",
    "        y.append(data[i+seq_length:i+seq_length+forecast_horizon, 0])  # temperature only\n",
    "    return np.array(X), np.array(y)"
   ]
  },
  {
   "cell_type": "code",
   "execution_count": 39,
   "metadata": {},
   "outputs": [
    {
     "name": "stdout",
     "output_type": "stream",
     "text": [
      "X shape: (5, 3, 3)\n",
      "y shape: (5, 2)\n"
     ]
    }
   ],
   "source": [
    "sequence_length = 3  \n",
    "forecast_horizon = 2  \n",
    "\n",
    "X, y = create_sequences(df_scaled, sequence_length, forecast_horizon)\n",
    "print(\"X shape:\", X.shape)  \n",
    "print(\"y shape:\", y.shape) \n"
   ]
  },
  {
   "cell_type": "code",
   "execution_count": 44,
   "metadata": {},
   "outputs": [],
   "source": [
    "X_tensor = torch.tensor(X, dtype=torch.float32)\n",
    "y_tensor = torch.tensor(y, dtype=torch.float32)\n",
    "dataset = TensorDataset(X_tensor, y_tensor)\n",
    "train_loader = DataLoader(dataset, batch_size=4, shuffle=True)"
   ]
  },
  {
   "cell_type": "code",
   "execution_count": 41,
   "metadata": {},
   "outputs": [],
   "source": [
    "class LSTMForecast(nn.Module):\n",
    "    def __init__(self, input_size, hidden_size, forecast_horizon):\n",
    "        super(LSTMForecast, self).__init__()\n",
    "        self.lstm = nn.LSTM(input_size=input_size, hidden_size=hidden_size, batch_first=True)\n",
    "        self.fc = nn.Linear(hidden_size, forecast_horizon)\n",
    "    def forward(self, x):\n",
    "        # x shape: (batch_size, time_steps, input_size)\n",
    "        _, (h_n, _) = self.lstm(x)       # h_n shape: (1, batch, hidden_size)\n",
    "        out = self.fc(h_n.squeeze(0))    # output shape: (batch, forecast_horizon)\n",
    "        return out"
   ]
  },
  {
   "cell_type": "code",
   "execution_count": 45,
   "metadata": {},
   "outputs": [
    {
     "data": {
      "text/plain": [
       "3"
      ]
     },
     "execution_count": 45,
     "metadata": {},
     "output_type": "execute_result"
    }
   ],
   "source": [
    "X.shape[2]"
   ]
  },
  {
   "cell_type": "code",
   "execution_count": 48,
   "metadata": {},
   "outputs": [
    {
     "name": "stdout",
     "output_type": "stream",
     "text": [
      "Epoch 1/10, Loss: 0.4410\n",
      "Epoch 2/10, Loss: 0.4806\n",
      "Epoch 3/10, Loss: 0.3844\n",
      "Epoch 4/10, Loss: 0.4229\n",
      "Epoch 5/10, Loss: 0.3949\n",
      "Epoch 6/10, Loss: 0.3067\n",
      "Epoch 7/10, Loss: 0.5324\n",
      "Epoch 8/10, Loss: 0.3450\n",
      "Epoch 9/10, Loss: 0.4237\n",
      "Epoch 10/10, Loss: 0.3897\n"
     ]
    },
    {
     "data": {
      "image/png": "[encoded data removed]",
      "text/plain": [
       "<Figure size 1000x400 with 1 Axes>"
      ]
     },
     "metadata": {},
     "output_type": "display_data"
    }
   ],
   "source": [
    "input_size = X.shape[2]\n",
    "hidden_size = 64\n",
    "model = LSTMForecast(input_size, hidden_size, forecast_horizon)\n",
    "\n",
    "criterion = nn.MSELoss()\n",
    "optimizer = torch.optim.Adam(model.parameters(), lr=0.001)\n",
    "\n",
    "epochs = 10\n",
    "for epoch in range(epochs):\n",
    "    model.train()\n",
    "    epoch_loss = 0.0\n",
    "    for X_batch, y_batch in train_loader:\n",
    "        optimizer.zero_grad()\n",
    "        y_pred = model(X_batch)\n",
    "        loss = criterion(y_pred, y_batch)\n",
    "        loss.backward()\n",
    "        optimizer.step()\n",
    "        epoch_loss += loss.item()\n",
    "    print(f\"Epoch {epoch+1}/{epochs}, Loss: {epoch_loss/len(train_loader):.4f}\")\n",
    "\n",
    "model.eval()\n",
    "with torch.no_grad():\n",
    "    sample_input = X_tensor[0].unsqueeze(0)  # shape: (1, 60, 3)\n",
    "    prediction = model(sample_input).squeeze().numpy()  # shape: (60,)\n",
    "    actual = y_tensor[0].numpy()\n",
    "\n",
    "\n",
    "# Inverse scale only temperature\n",
    "forecast_horizon = y.shape[1]  # auto-detects 2\n",
    "temp_index = 0\n",
    "\n",
    "pred_scaled = np.zeros((forecast_horizon, 3))\n",
    "true_scaled = np.zeros((forecast_horizon, 3))\n",
    "\n",
    "pred_scaled[:, temp_index] = prediction\n",
    "true_scaled[:, temp_index] = actual\n",
    "\n",
    "# Inverse transform just temperature\n",
    "pred_temp = scaler.inverse_transform(pred_scaled)[:, temp_index]\n",
    "true_temp = scaler.inverse_transform(true_scaled)[:, temp_index]\n",
    "\n",
    "plt.figure(figsize=(10, 4))\n",
    "plt.plot(true_temp, label=\"Actual Temperature (Next 60 mins)\")\n",
    "plt.plot(pred_temp, label=\"Predicted Temperature\")\n",
    "plt.title(\"LSTM Forecast (Next 60 Minutes)\")\n",
    "plt.xlabel(\"Minutes Ahead\")\n",
    "plt.ylabel(\"Temperature\")\n",
    "plt.legend()\n",
    "plt.grid()\n",
    "plt.tight_layout()\n",
    "plt.show()"
   ]
  }
 ],
 "metadata": {
  "kernelspec": {
   "display_name": "venv",
   "language": "python",
   "name": "python3"
  },
  "language_info": {
   "codemirror_mode": {
    "name": "ipython",
    "version": 3
   },
   "file_extension": ".py",
   "mimetype": "text/x-python",
   "name": "python",
   "nbconvert_exporter": "python",
   "pygments_lexer": "ipython3",
   "version": "3.10.12"
  }
 },
 "nbformat": 4,
 "nbformat_minor": 2
}
