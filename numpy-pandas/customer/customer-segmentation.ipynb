{
 "cells": [
  {
   "cell_type": "markdown",
   "metadata": {},
   "source": [
    "### Case Study 2: Customer Segmentation Pipeline\n",
    "Segment customers into behavioral clusters from logs + transactions for use in:\n",
    "\n",
    "Recommender systems\n",
    "\n",
    "Email targeting\n",
    "\n",
    "Churn prediction\n",
    "\n",
    "Lifetime value modeling"
   ]
  },
  {
   "cell_type": "code",
   "execution_count": 1,
   "metadata": {},
   "outputs": [],
   "source": [
    "import pandas as pd\n",
    "import numpy as np"
   ]
  },
  {
   "cell_type": "code",
   "execution_count": 2,
   "metadata": {},
   "outputs": [],
   "source": [
    "def load_data():\n",
    "    users = pd.read_csv(\"users.csv\", parse_dates=['signup_date'])\n",
    "    orders = pd.read_csv(\"orders.csv\", parse_dates=['timestamp'])\n",
    "    sessions = pd.read_csv(\"sessions.csv\", parse_dates=[\"timestamp\"])\n",
    "    return users, orders, sessions"
   ]
  },
  {
   "cell_type": "code",
   "execution_count": 3,
   "metadata": {},
   "outputs": [
    {
     "name": "stdout",
     "output_type": "stream",
     "text": [
      "  user_id                     email     city signup_date\n",
      "0    U001      john.doe@example.com   Berlin  2022-01-15\n",
      "1    U002    jane.smith@example.com   Munich  2022-03-22\n",
      "2    U003     ali.ahmed@example.com  Hamburg  2023-02-10\n",
      "3    U004  marie.dupont@example.com    Paris  2021-11-05\n",
      "4    U005        li.wei@example.com   Berlin  2022-08-18\n",
      "  user_id  timestamp   price  items\n",
      "0    U001 2023-12-01  120.50      3\n",
      "1    U001 2024-01-15  250.00      5\n",
      "2    U002 2024-03-20   80.00      1\n",
      "3    U003 2024-04-05   35.00      2\n",
      "4    U001 2025-05-01   99.99      2\n",
      "  user_id   event_type  timestamp\n",
      "0    U001        login 2025-07-01\n",
      "1    U001  add_to_cart 2025-07-01\n",
      "2    U001     purchase 2025-07-01\n",
      "3    U002        login 2025-06-30\n",
      "4    U002       browse 2025-06-30\n"
     ]
    }
   ],
   "source": [
    "users, orders, sessions = load_data()\n",
    "print(users.head())\n",
    "print(orders.head())\n",
    "print(sessions.head())"
   ]
  },
  {
   "cell_type": "code",
   "execution_count": 4,
   "metadata": {},
   "outputs": [],
   "source": [
    "def build_features(users, orders, sessions):\n",
    "    order_agg = orders.groupby(\"user_id\").agg({\n",
    "        'price': ['sum', 'count', 'mean'],\n",
    "        'timestamp': 'max'\n",
    "    })\n",
    "    order_agg.columns = ['total_spent', 'num_orders', 'avg_order', 'last_order']\n",
    "    order_agg['days_since_last_order'] = (pd.Timestamp.today() - order_agg['last_order']).dt.days\n",
    "\n",
    "    sess_agg = sessions.groupby(\"user_id\").event_type.value_counts().unstack().fillna(0)\n",
    "    sess_agg.columns = [f\"event_{col}\" for col in sess_agg.columns]\n",
    "    df = users.set_index('user_id').join([order_agg, sess_agg])\n",
    "    df = df.dropna()\n",
    "    return df"
   ]
  },
  {
   "cell_type": "code",
   "execution_count": 5,
   "metadata": {},
   "outputs": [
    {
     "name": "stdout",
     "output_type": "stream",
     "text": [
      "                            email     city signup_date  total_spent  \\\n",
      "user_id                                                               \n",
      "U001         john.doe@example.com   Berlin  2022-01-15       470.49   \n",
      "U002       jane.smith@example.com   Munich  2022-03-22        80.00   \n",
      "U003        ali.ahmed@example.com  Hamburg  2023-02-10       105.00   \n",
      "U004     marie.dupont@example.com    Paris  2021-11-05       510.00   \n",
      "U005           li.wei@example.com   Berlin  2022-08-18        45.00   \n",
      "\n",
      "         num_orders  avg_order last_order  days_since_last_order  \\\n",
      "user_id                                                            \n",
      "U001              3     156.83 2025-05-01                     79   \n",
      "U002              1      80.00 2024-03-20                    486   \n",
      "U003              2      52.50 2025-06-01                     48   \n",
      "U004              2     255.00 2025-02-14                    155   \n",
      "U005              1      45.00 2025-06-10                     39   \n",
      "\n",
      "         event_add_to_cart  event_browse  event_login  event_purchase  \n",
      "user_id                                                                \n",
      "U001                   1.0           0.0          1.0             1.0  \n",
      "U002                   0.0           1.0          1.0             0.0  \n",
      "U003                   0.0           1.0          1.0             0.0  \n",
      "U004                   0.0           0.0          1.0             1.0  \n",
      "U005                   1.0           0.0          1.0             0.0  \n"
     ]
    }
   ],
   "source": [
    "df = build_features(users, orders, sessions)\n",
    "print(df.head())"
   ]
  },
  {
   "cell_type": "code",
   "execution_count": 6,
   "metadata": {},
   "outputs": [],
   "source": [
    "from sklearn.preprocessing import StandardScaler\n",
    "def normalize_features(df, features):\n",
    "    scaler = StandardScaler()\n",
    "    X_scaled = scaler.fit_transform(df[features])\n",
    "    return X_scaled, scaler"
   ]
  },
  {
   "cell_type": "code",
   "execution_count": 7,
   "metadata": {},
   "outputs": [],
   "source": [
    "features = ['total_spent', 'num_orders', 'avg_order', 'days_since_last_order']\n",
    "X_scaled, scaler = normalize_features(df, features)"
   ]
  },
  {
   "cell_type": "code",
   "execution_count": 8,
   "metadata": {},
   "outputs": [],
   "source": [
    "from sklearn.cluster import KMeans\n",
    "\n",
    "def cluster_customers(X_scaled, df):\n",
    "    kmeans = KMeans(n_clusters=4, random_state=42)\n",
    "    df['cluster'] = kmeans.fit_predict(X_scaled)\n",
    "\n",
    "    def label(row):\n",
    "        if row['total_spent'] > 1000 and row['num_orders'] > 10:\n",
    "            return 'VIP'\n",
    "        elif row['days_since_last_order'] > 60:\n",
    "            return 'Churn Risk'\n",
    "        return 'Standard'\n",
    "\n",
    "    df['segment'] = df.apply(label, axis=1)\n",
    "    return df, kmeans"
   ]
  },
  {
   "cell_type": "code",
   "execution_count": 9,
   "metadata": {},
   "outputs": [],
   "source": [
    "df, kmeans = cluster_customers(X_scaled, df)"
   ]
  },
  {
   "cell_type": "code",
   "execution_count": 10,
   "metadata": {},
   "outputs": [],
   "source": [
    "def save_segments(df):\n",
    "    df[['email', 'segment']].to_csv(\"output/segmented_customers.csv\", index=False)\n",
    "# save_segments(df)"
   ]
  },
  {
   "cell_type": "code",
   "execution_count": 12,
   "metadata": {},
   "outputs": [],
   "source": [
    "import joblib\n",
    "def save_models(scaler, kmeans):\n",
    "    joblib.dump(scaler, 'scaler.pkl')\n",
    "    joblib.dump(kmeans, 'kmeans')"
   ]
  },
  {
   "cell_type": "code",
   "execution_count": 13,
   "metadata": {},
   "outputs": [],
   "source": [
    "save_models(scaler, kmeans)"
   ]
  },
  {
   "cell_type": "code",
   "execution_count": null,
   "metadata": {},
   "outputs": [],
   "source": []
  }
 ],
 "metadata": {
  "kernelspec": {
   "display_name": "venv",
   "language": "python",
   "name": "python3"
  },
  "language_info": {
   "codemirror_mode": {
    "name": "ipython",
    "version": 3
   },
   "file_extension": ".py",
   "mimetype": "text/x-python",
   "name": "python",
   "nbconvert_exporter": "python",
   "pygments_lexer": "ipython3",
   "version": "3.10.12"
  }
 },
 "nbformat": 4,
 "nbformat_minor": 2
}
