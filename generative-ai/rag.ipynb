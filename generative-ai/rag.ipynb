{
 "cells": [
  {
   "cell_type": "code",
   "execution_count": 2,
   "metadata": {},
   "outputs": [],
   "source": [
    "import warnings\n",
    "warnings.filterwarnings('ignore')\n",
    "\n",
    "import pandas as pd\n",
    "import singlestoredb as s2\n",
    "from openai import OpenAI"
   ]
  },
  {
   "cell_type": "code",
   "execution_count": 3,
   "metadata": {},
   "outputs": [],
   "source": [
    "# Directly set API keys and connection URI\n",
    "OPENAI_API_KEY = \"\"\n",
    "SINGLESTORE_URI = \"\"\n"
   ]
  },
  {
   "cell_type": "code",
   "execution_count": 4,
   "metadata": {},
   "outputs": [],
   "source": [
    "# Initialize clients\n",
    "openai_client = OpenAI(api_key=OPENAI_API_KEY)\n",
    "conn = s2.connect(SINGLESTORE_URI)\n",
    "cursor = conn.cursor()"
   ]
  },
  {
   "cell_type": "code",
   "execution_count": 5,
   "metadata": {},
   "outputs": [
    {
     "data": {
      "text/plain": [
       "0"
      ]
     },
     "execution_count": 5,
     "metadata": {},
     "output_type": "execute_result"
    }
   ],
   "source": [
    "# Step 1: Create table if not exists\n",
    "cursor.execute(\"\"\"\n",
    "CREATE TABLE IF NOT EXISTS faqs (\n",
    "    id INT PRIMARY KEY,\n",
    "    question TEXT,\n",
    "    answer TEXT,\n",
    "    embedding VECTOR(1536)\n",
    ");\n",
    "\"\"\")"
   ]
  },
  {
   "cell_type": "code",
   "execution_count": 12,
   "metadata": {},
   "outputs": [
    {
     "data": {
      "text/html": [
       "<div>\n",
       "<style scoped>\n",
       "    .dataframe tbody tr th:only-of-type {\n",
       "        vertical-align: middle;\n",
       "    }\n",
       "\n",
       "    .dataframe tbody tr th {\n",
       "        vertical-align: top;\n",
       "    }\n",
       "\n",
       "    .dataframe thead th {\n",
       "        text-align: right;\n",
       "    }\n",
       "</style>\n",
       "<table border=\"1\" class=\"dataframe\">\n",
       "  <thead>\n",
       "    <tr style=\"text-align: right;\">\n",
       "      <th></th>\n",
       "      <th>question</th>\n",
       "      <th>answer</th>\n",
       "    </tr>\n",
       "  </thead>\n",
       "  <tbody>\n",
       "    <tr>\n",
       "      <th>2</th>\n",
       "      <td>How do embeddings work?</td>\n",
       "      <td>Embeddings are a numerical representation of t...</td>\n",
       "    </tr>\n",
       "  </tbody>\n",
       "</table>\n",
       "</div>"
      ],
      "text/plain": [
       "                  question                                             answer\n",
       "2  How do embeddings work?  Embeddings are a numerical representation of t..."
      ]
     },
     "execution_count": 12,
     "metadata": {},
     "output_type": "execute_result"
    }
   ],
   "source": [
    "# Step 2: Sample data\n",
    "qa_data = {\n",
    "    \"question\": [\n",
    "        \"What is AI?\",\n",
    "        \"What is Pinecone?\",\n",
    "        \"How do embeddings work?\",\n",
    "        \"What is GPT?\",\n",
    "        \"What is machine learning?\"\n",
    "    ],\n",
    "    \"answer\": [\n",
    "        \"AI is the simulation of human intelligence in machines.\",\n",
    "        \"Pinecone is a vector database that enables efficient search and retrieval.\",\n",
    "        \"Embeddings are a numerical representation of text that captures semantic meaning.\",\n",
    "        \"GPT is a transformer-based model that generates human-like text.\",\n",
    "        \"Machine learning is a subset of AI where machines learn from data to make decisions.\"\n",
    "    ]\n",
    "}\n",
    "df = pd.DataFrame(qa_data)\n",
    "df.sample()"
   ]
  },
  {
   "cell_type": "code",
   "execution_count": 16,
   "metadata": {},
   "outputs": [],
   "source": [
    "import numpy as np\n",
    "for i, row in df.iterrows():\n",
    "    dummy_embedding = np.random.rand(1536).astype(np.float32).tobytes()\n",
    "    cursor.execute(\n",
    "        \"INSERT INTO faqs (id, question, answer, embedding) VALUES (%s, %s, %s, %s)\",\n",
    "        (i, row['question'], row['answer'], dummy_embedding)\n",
    "    )\n",
    "conn.commit()"
   ]
  },
  {
   "cell_type": "code",
   "execution_count": 18,
   "metadata": {},
   "outputs": [],
   "source": [
    "def retrieve_similar(query, top_k=3):\n",
    "    cursor.execute(\"SELECT question, answer FROM faqs LIMIT %s\", (top_k,))\n",
    "    return cursor.fetchall()\n",
    "\n",
    "def generate_answer(query):\n",
    "    matches = retrieve_similar(query)\n",
    "    context = \"\\n\".join([f\"{q}: {a}\" for q, a in matches])\n",
    "    simulated_response = f\"[SIMULATED ANSWER]\\nContext used:\\n{context}\\n\\nOriginal Question: {query}\"\n",
    "    return simulated_response"
   ]
  },
  {
   "cell_type": "code",
   "execution_count": 19,
   "metadata": {},
   "outputs": [
    {
     "name": "stdout",
     "output_type": "stream",
     "text": [
      "Question: What is machine learning - please explain in 300 words\n",
      "Answer: [SIMULATED ANSWER]\n",
      "Context used:\n",
      "What is GPT?: GPT is a transformer-based model that generates human-like text.\n",
      "What is Pinecone?: Pinecone is a vector database that enables efficient search and retrieval.\n",
      "What is AI?: AI is the simulation of human intelligence in machines.\n",
      "\n",
      "Original Question: What is machine learning - please explain in 300 words\n"
     ]
    }
   ],
   "source": [
    "query = \"What is machine learning - please explain in 300 words\"\n",
    "answer = generate_answer(query)\n",
    "print(f\"Question: {query}\\nAnswer: {answer}\")"
   ]
  },
  {
   "cell_type": "code",
   "execution_count": null,
   "metadata": {},
   "outputs": [],
   "source": [
    "import warnings\n",
    "warnings.filterwarnings('ignore')\n",
    "\n",
    "import pandas as pd\n",
    "import singlestoredb as s2\n",
    "import numpy as np\n",
    "from openai import OpenAI\n",
    "\n",
    "# Directly set API keys and connection URI\n",
    "OPENAI_API_KEY = \"your-openai-api-key\"\n",
    "SINGLESTORE_URI = \"\"\n",
    "\n",
    "# Initialize clients\n",
    "openai_client = OpenAI(api_key=OPENAI_API_KEY)\n",
    "conn = s2.connect(SINGLESTORE_URI)\n",
    "cursor = conn.cursor()\n",
    "\n",
    "# Step 1: Create table if not exists\n",
    "cursor.execute(\"\"\"\n",
    "CREATE TABLE IF NOT EXISTS faqs (\n",
    "    id INT PRIMARY KEY,\n",
    "    question TEXT,\n",
    "    answer TEXT,\n",
    "    embedding BLOB\n",
    ");\n",
    "\"\"\")\n",
    "\n",
    "# Step 2: Sample data\n",
    "qa_data = {\n",
    "    \"question\": [\n",
    "        \"What is AI?\",\n",
    "        \"What is Pinecone?\",\n",
    "        \"How do embeddings work?\",\n",
    "        \"What is GPT?\",\n",
    "        \"What is machine learning?\"\n",
    "    ],\n",
    "    \"answer\": [\n",
    "        \"AI is the simulation of human intelligence in machines.\",\n",
    "        \"Pinecone is a vector database that enables efficient search and retrieval.\",\n",
    "        \"Embeddings are a numerical representation of text that captures semantic meaning.\",\n",
    "        \"GPT is a transformer-based model that generates human-like text.\",\n",
    "        \"Machine learning is a subset of AI where machines learn from data to make decisions.\"\n",
    "    ]\n",
    "}\n",
    "df = pd.DataFrame(qa_data)\n",
    "\n",
    "# Step 3: Insert data with actual OpenAI embeddings (converted to BLOB)\n",
    "for i, row in df.iterrows():\n",
    "    response = openai_client.embeddings.create(input=[row['answer']], model=\"text-embedding-ada-002\")\n",
    "    embedding = np.array(response.data[0].embedding, dtype=np.float32).tobytes()\n",
    "    cursor.execute(\n",
    "        \"INSERT INTO faqs (id, question, answer, embedding) VALUES (%s, %s, %s, %s)\",\n",
    "        (i, row['question'], row['answer'], embedding)\n",
    "    )\n",
    "conn.commit()\n",
    "\n",
    "# Step 4: Retrieval function using OpenAI embedding (non-indexed fallback)\n",
    "def retrieve_similar(query, top_k=3):\n",
    "    response = openai_client.embeddings.create(input=[query], model=\"text-embedding-ada-002\")\n",
    "    query_vector = np.array(response.data[0].embedding, dtype=np.float32)\n",
    "\n",
    "    cursor.execute(\"SELECT id, answer, embedding FROM faqs\")\n",
    "    results = cursor.fetchall()\n",
    "    scored = []\n",
    "    for i, answer, emb_blob in results:\n",
    "        stored_vec = np.frombuffer(emb_blob, dtype=np.float32)\n",
    "        score = np.dot(stored_vec, query_vector) / (np.linalg.norm(stored_vec) * np.linalg.norm(query_vector))\n",
    "        scored.append((score, i, answer))\n",
    "\n",
    "    top = sorted(scored, reverse=True)[:top_k]\n",
    "    return [(f\"FAQ {i}\", ans, score) for score, i, ans in top]\n",
    "\n",
    "# Step 5: GPT generation function\n",
    "\n",
    "def generate_answer(query):\n",
    "    matches = retrieve_similar(query)\n",
    "    context = \"\\n\".join([f\"{q}: {a}\" for q, a, _ in matches])\n",
    "    messages = [\n",
    "        {\"role\": \"system\", \"content\": \"You are a helpful assistant.\"},\n",
    "        {\"role\": \"user\", \"content\": f\"Use this context to answer the question:\\n{context}\\n\\nQuestion: {query}\"}\n",
    "    ]\n",
    "    response = openai_client.chat.completions.create(\n",
    "        model=\"gpt-4-turbo\",\n",
    "        messages=messages,\n",
    "        max_tokens=500,\n",
    "        temperature=0.7\n",
    "    )\n",
    "    return response.choices[0].message.content\n",
    "\n",
    "# Step 6: Test the RAG system\n",
    "if __name__ == \"__main__\":\n",
    "    query = \"What is machine learning - please explain in 300 words\"\n",
    "    answer = generate_answer(query)\n",
    "    print(f\"\\nQuestion: {query}\\n\\nAnswer: {answer}\")"
   ]
  }
 ],
 "metadata": {
  "kernelspec": {
   "display_name": "venv",
   "language": "python",
   "name": "python3"
  },
  "language_info": {
   "codemirror_mode": {
    "name": "ipython",
    "version": 3
   },
   "file_extension": ".py",
   "mimetype": "text/x-python",
   "name": "python",
   "nbconvert_exporter": "python",
   "pygments_lexer": "ipython3",
   "version": "3.10.12"
  }
 },
 "nbformat": 4,
 "nbformat_minor": 2
}
